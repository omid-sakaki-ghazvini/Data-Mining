{
  "metadata": {
    "kernelspec": {
      "language": "python",
      "display_name": "Python 3",
      "name": "python3"
    },
    "language_info": {
      "name": "python",
      "version": "3.10.14",
      "mimetype": "text/x-python",
      "codemirror_mode": {
        "name": "ipython",
        "version": 3
      },
      "pygments_lexer": "ipython3",
      "nbconvert_exporter": "python",
      "file_extension": ".py"
    },
    "kaggle": {
      "accelerator": "none",
      "dataSources": [
        {
          "sourceId": 9788026,
          "sourceType": "datasetVersion",
          "datasetId": 5997342
        }
      ],
      "dockerImageVersionId": 30786,
      "isInternetEnabled": true,
      "language": "python",
      "sourceType": "notebook",
      "isGpuEnabled": false
    },
    "colab": {
      "name": "Data Cleaning",
      "provenance": [],
      "include_colab_link": true
    }
  },
  "nbformat_minor": 0,
  "nbformat": 4,
  "cells": [
    {
      "cell_type": "markdown",
      "metadata": {
        "id": "view-in-github",
        "colab_type": "text"
      },
      "source": [
        "<a href=\"https://colab.research.google.com/github/omid-sakaki-ghazvini/Data-Mining/blob/master/Data_Cleaning.ipynb\" target=\"_parent\"><img src=\"https://colab.research.google.com/assets/colab-badge.svg\" alt=\"Open In Colab\"/></a>"
      ]
    },
    {
      "source": [
        "# IMPORTANT: RUN THIS CELL IN ORDER TO IMPORT YOUR KAGGLE DATA SOURCES,\n",
        "# THEN FEEL FREE TO DELETE THIS CELL.\n",
        "# NOTE: THIS NOTEBOOK ENVIRONMENT DIFFERS FROM KAGGLE'S PYTHON\n",
        "# ENVIRONMENT SO THERE MAY BE MISSING LIBRARIES USED BY YOUR\n",
        "# NOTEBOOK.\n",
        "import kagglehub\n",
        "omidsakaki1370_data_preparation_example_path = kagglehub.dataset_download('omidsakaki1370/data-preparation-example')\n",
        "\n",
        "print('Data source import complete.')\n"
      ],
      "metadata": {
        "id": "7GlQ_M9A7RY-"
      },
      "cell_type": "code",
      "outputs": [],
      "execution_count": null
    },
    {
      "cell_type": "code",
      "source": [
        "# This Python 3 environment comes with many helpful analytics libraries installed\n",
        "# It is defined by the kaggle/python Docker image: https://github.com/kaggle/docker-python\n",
        "# For example, here's several helpful packages to load\n",
        "\n",
        "import numpy as np # linear algebra\n",
        "import pandas as pd # data processing, CSV file I/O (e.g. pd.read_csv)\n",
        "\n",
        "# Input data files are available in the read-only \"../input/\" directory\n",
        "# For example, running this (by clicking run or pressing Shift+Enter) will list all files under the input directory\n",
        "\n",
        "import os\n",
        "for dirname, _, filenames in os.walk('/kaggle/input'):\n",
        "    for filename in filenames:\n",
        "        print(os.path.join(dirname, filename))\n",
        "\n",
        "# You can write up to 20GB to the current directory (/kaggle/working/) that gets preserved as output when you create a version using \"Save & Run All\"\n",
        "# You can also write temporary files to /kaggle/temp/, but they won't be saved outside of the current session"
      ],
      "metadata": {
        "_uuid": "8f2839f25d086af736a60e9eeb907d3b93b6e0e5",
        "_cell_guid": "b1076dfc-b9ad-4769-8c92-a6c4dae69d19",
        "trusted": true,
        "execution": {
          "iopub.status.busy": "2024-11-02T16:27:56.870952Z",
          "iopub.execute_input": "2024-11-02T16:27:56.871453Z",
          "iopub.status.idle": "2024-11-02T16:27:58.16233Z",
          "shell.execute_reply.started": "2024-11-02T16:27:56.871398Z",
          "shell.execute_reply": "2024-11-02T16:27:58.160812Z"
        },
        "id": "rQQkItvh7RY_"
      },
      "outputs": [],
      "execution_count": null
    },
    {
      "cell_type": "code",
      "source": [
        "import pandas as pd\n",
        "import numpy as np\n",
        "from scipy import stats\n",
        "from sklearn.preprocessing import MinMaxScaler, StandardScaler, LabelEncoder\n",
        "import seaborn as sns\n",
        "import matplotlib.pyplot as plt\n",
        "\n",
        "import warnings\n",
        "warnings.filterwarnings('ignore')"
      ],
      "metadata": {
        "trusted": true,
        "execution": {
          "iopub.status.busy": "2024-11-02T16:58:47.175757Z",
          "iopub.execute_input": "2024-11-02T16:58:47.176546Z",
          "iopub.status.idle": "2024-11-02T16:58:48.26477Z",
          "shell.execute_reply.started": "2024-11-02T16:58:47.176483Z",
          "shell.execute_reply": "2024-11-02T16:58:48.263799Z"
        },
        "id": "f8HV9RNW7RZA"
      },
      "outputs": [],
      "execution_count": null
    },
    {
      "cell_type": "markdown",
      "source": [
        "# **Laad Data**"
      ],
      "metadata": {
        "id": "-eNRwTqq7RZA"
      }
    },
    {
      "cell_type": "code",
      "source": [
        "df_example = pd.read_csv('/kaggle/input/data-preparation-example/credit_risk_dataset.csv')\n",
        "df_backfill = df_example.fillna(method = 'backfill')\n",
        "missing_values_count = df_backfill.isnull().sum()\n",
        "print(missing_values_count)\n",
        "df_backfill.head(10)"
      ],
      "metadata": {
        "trusted": true,
        "execution": {
          "iopub.status.busy": "2024-11-02T17:01:25.288669Z",
          "iopub.execute_input": "2024-11-02T17:01:25.289252Z",
          "iopub.status.idle": "2024-11-02T17:01:25.442751Z",
          "shell.execute_reply.started": "2024-11-02T17:01:25.289192Z",
          "shell.execute_reply": "2024-11-02T17:01:25.441435Z"
        },
        "id": "Vmi0kh777RZB"
      },
      "outputs": [],
      "execution_count": null
    },
    {
      "cell_type": "markdown",
      "source": [
        "# **Normalization**"
      ],
      "metadata": {
        "id": "jiRi8qG97RZC"
      }
    },
    {
      "cell_type": "code",
      "source": [
        "fig = plt.figure(figsize=(14, 4))\n",
        "ax1 = plt.subplot(121)\n",
        "\n",
        "sns.distplot(df_backfill['person_income']);\n",
        "ax1.set_title(\"person_income\");"
      ],
      "metadata": {
        "trusted": true,
        "execution": {
          "iopub.status.busy": "2024-11-02T17:02:57.248477Z",
          "iopub.execute_input": "2024-11-02T17:02:57.248903Z",
          "iopub.status.idle": "2024-11-02T17:02:57.95409Z",
          "shell.execute_reply.started": "2024-11-02T17:02:57.248861Z",
          "shell.execute_reply": "2024-11-02T17:02:57.952801Z"
        },
        "id": "1-_CiWJT7RZC"
      },
      "outputs": [],
      "execution_count": null
    },
    {
      "cell_type": "code",
      "source": [
        "fig = plt.figure(figsize=(14, 4))\n",
        "ax1 = plt.subplot(121)\n",
        "\n",
        "sns.distplot(df_backfill['person_income']);\n",
        "ax1.set_title(\"person_income\");\n",
        "\n",
        "df_backfill['person_income'] = np.log(df_backfill['person_income'])\n",
        "\n",
        "ax1 = plt.subplot(122)\n",
        "sns.distplot(df_backfill['person_income']);\n",
        "ax1.set_title(\"person_income_log\");"
      ],
      "metadata": {
        "trusted": true,
        "execution": {
          "iopub.status.busy": "2024-11-02T17:03:12.960866Z",
          "iopub.execute_input": "2024-11-02T17:03:12.961714Z",
          "iopub.status.idle": "2024-11-02T17:03:14.201578Z",
          "shell.execute_reply.started": "2024-11-02T17:03:12.961653Z",
          "shell.execute_reply": "2024-11-02T17:03:14.200304Z"
        },
        "id": "AODgNOlU7RZC"
      },
      "outputs": [],
      "execution_count": null
    },
    {
      "cell_type": "markdown",
      "source": [
        "# **Outliers**"
      ],
      "metadata": {
        "id": "ihrETSRp7RZD"
      }
    },
    {
      "cell_type": "code",
      "source": [
        "sns.pairplot(df_backfill, hue='loan_status')\n",
        "plt.suptitle('Pair Plots by Loan Status', y=1.02)\n",
        "plt.show()"
      ],
      "metadata": {
        "trusted": true,
        "execution": {
          "iopub.status.busy": "2024-11-02T17:03:44.434058Z",
          "iopub.execute_input": "2024-11-02T17:03:44.434467Z",
          "iopub.status.idle": "2024-11-02T17:05:37.990828Z",
          "shell.execute_reply.started": "2024-11-02T17:03:44.434419Z",
          "shell.execute_reply": "2024-11-02T17:05:37.989087Z"
        },
        "id": "3GYfqiNo7RZD"
      },
      "outputs": [],
      "execution_count": null
    },
    {
      "cell_type": "code",
      "source": [
        "def remove_outliers(df, column):\n",
        "    Q1 = df[column].quantile(0.25)\n",
        "    Q3 = df[column].quantile(0.75)\n",
        "    IQR = Q3 - Q1\n",
        "    lower_bound = Q1 - 1.5 * IQR\n",
        "    upper_bound = Q3 + 1.5 * IQR\n",
        "    df_out = df[(df[column] >= lower_bound) & (df[column] <= upper_bound)]\n",
        "    return df_out\n",
        "\n",
        "df_backfill = remove_outliers(df_backfill, 'person_age')\n",
        "df_backfill = remove_outliers(df_backfill, 'person_income')\n",
        "df_backfill = remove_outliers(df_backfill, 'person_emp_length')\n",
        "df_backfill = remove_outliers(df_backfill, 'cb_person_cred_hist_length')\n",
        "df_backfill.reset_index(drop=True, inplace=True)"
      ],
      "metadata": {
        "trusted": true,
        "execution": {
          "iopub.status.busy": "2024-11-02T17:06:04.045449Z",
          "iopub.execute_input": "2024-11-02T17:06:04.045901Z",
          "iopub.status.idle": "2024-11-02T17:06:04.081512Z",
          "shell.execute_reply.started": "2024-11-02T17:06:04.045856Z",
          "shell.execute_reply": "2024-11-02T17:06:04.08053Z"
        },
        "id": "Tw6diYAg7RZE"
      },
      "outputs": [],
      "execution_count": null
    },
    {
      "cell_type": "code",
      "source": [
        "sns.pairplot(df_backfill, hue='loan_status')\n",
        "plt.suptitle('Pair Plots by Loan Status', y=1.02)\n",
        "plt.show()"
      ],
      "metadata": {
        "trusted": true,
        "execution": {
          "iopub.status.busy": "2024-11-02T17:06:07.27627Z",
          "iopub.execute_input": "2024-11-02T17:06:07.276686Z",
          "iopub.status.idle": "2024-11-02T17:07:50.855824Z",
          "shell.execute_reply.started": "2024-11-02T17:06:07.276646Z",
          "shell.execute_reply": "2024-11-02T17:07:50.853849Z"
        },
        "id": "QzL6xQCK7RZE"
      },
      "outputs": [],
      "execution_count": null
    },
    {
      "cell_type": "markdown",
      "source": [
        "# **Encoder**"
      ],
      "metadata": {
        "id": "gfIGsYdM7RZE"
      }
    },
    {
      "cell_type": "code",
      "source": [
        "df_backfill.info()"
      ],
      "metadata": {
        "trusted": true,
        "execution": {
          "iopub.status.busy": "2024-11-02T17:09:28.174726Z",
          "iopub.execute_input": "2024-11-02T17:09:28.175175Z",
          "iopub.status.idle": "2024-11-02T17:09:28.21105Z",
          "shell.execute_reply.started": "2024-11-02T17:09:28.175133Z",
          "shell.execute_reply": "2024-11-02T17:09:28.209725Z"
        },
        "id": "wgncz8o57RZF"
      },
      "outputs": [],
      "execution_count": null
    },
    {
      "cell_type": "code",
      "source": [
        "df_encoder_example = df_backfill.copy()"
      ],
      "metadata": {
        "trusted": true,
        "execution": {
          "iopub.status.busy": "2024-11-02T17:09:31.572034Z",
          "iopub.execute_input": "2024-11-02T17:09:31.57252Z",
          "iopub.status.idle": "2024-11-02T17:09:31.581291Z",
          "shell.execute_reply.started": "2024-11-02T17:09:31.572469Z",
          "shell.execute_reply": "2024-11-02T17:09:31.579795Z"
        },
        "id": "sEmtqDF_7RZF"
      },
      "outputs": [],
      "execution_count": null
    },
    {
      "cell_type": "markdown",
      "source": [
        "## **LabelEncoder**"
      ],
      "metadata": {
        "id": "zcUVpadA7RZF"
      }
    },
    {
      "cell_type": "code",
      "source": [
        "encoder=LabelEncoder()\n",
        "\n",
        "df_encoder_example['person_home_ownership']=encoder.fit_transform(df_encoder_example['person_home_ownership'])\n",
        "df_encoder_example['loan_intent']=encoder.fit_transform(df_encoder_example['loan_intent'])\n",
        "df_encoder_example['loan_grade']=encoder.fit_transform(df_encoder_example['loan_grade'])\n",
        "df_encoder_example['cb_person_default_on_file']=encoder.fit_transform(df_encoder_example['cb_person_default_on_file'])"
      ],
      "metadata": {
        "trusted": true,
        "execution": {
          "iopub.status.busy": "2024-11-02T17:09:35.691329Z",
          "iopub.execute_input": "2024-11-02T17:09:35.6918Z",
          "iopub.status.idle": "2024-11-02T17:09:35.735239Z",
          "shell.execute_reply.started": "2024-11-02T17:09:35.691755Z",
          "shell.execute_reply": "2024-11-02T17:09:35.734047Z"
        },
        "id": "Aimy8vav7RZF"
      },
      "outputs": [],
      "execution_count": null
    },
    {
      "cell_type": "code",
      "source": [
        "df_encoder_example.head(10)"
      ],
      "metadata": {
        "trusted": true,
        "execution": {
          "iopub.status.busy": "2024-11-02T17:09:38.786561Z",
          "iopub.execute_input": "2024-11-02T17:09:38.787548Z",
          "iopub.status.idle": "2024-11-02T17:09:38.808951Z",
          "shell.execute_reply.started": "2024-11-02T17:09:38.7875Z",
          "shell.execute_reply": "2024-11-02T17:09:38.807731Z"
        },
        "id": "ooV5H1rV7RZF"
      },
      "outputs": [],
      "execution_count": null
    },
    {
      "cell_type": "code",
      "source": [
        "df_encoder_example.info()"
      ],
      "metadata": {
        "trusted": true,
        "execution": {
          "iopub.status.busy": "2024-11-02T17:09:42.384569Z",
          "iopub.execute_input": "2024-11-02T17:09:42.385026Z",
          "iopub.status.idle": "2024-11-02T17:09:42.399366Z",
          "shell.execute_reply.started": "2024-11-02T17:09:42.384979Z",
          "shell.execute_reply": "2024-11-02T17:09:42.397987Z"
        },
        "id": "9_7SqbX97RZG"
      },
      "outputs": [],
      "execution_count": null
    },
    {
      "cell_type": "markdown",
      "source": [
        "## **One Hot**"
      ],
      "metadata": {
        "id": "3pEi4hmW7RZG"
      }
    },
    {
      "cell_type": "code",
      "source": [
        "df_backfill.head(10)"
      ],
      "metadata": {
        "trusted": true,
        "execution": {
          "iopub.status.busy": "2024-11-02T17:09:45.192167Z",
          "iopub.execute_input": "2024-11-02T17:09:45.192702Z",
          "iopub.status.idle": "2024-11-02T17:09:45.216499Z",
          "shell.execute_reply.started": "2024-11-02T17:09:45.192649Z",
          "shell.execute_reply": "2024-11-02T17:09:45.215238Z"
        },
        "id": "NdJbS4p87RZG"
      },
      "outputs": [],
      "execution_count": null
    },
    {
      "cell_type": "code",
      "source": [
        "edt = pd.get_dummies(df_backfill['loan_grade'], dtype=int)\n",
        "\n",
        "edt"
      ],
      "metadata": {
        "trusted": true,
        "execution": {
          "iopub.status.busy": "2024-11-02T17:09:48.459336Z",
          "iopub.execute_input": "2024-11-02T17:09:48.459778Z",
          "iopub.status.idle": "2024-11-02T17:09:48.480562Z",
          "shell.execute_reply.started": "2024-11-02T17:09:48.459736Z",
          "shell.execute_reply": "2024-11-02T17:09:48.479272Z"
        },
        "id": "0FObh5y17RZG"
      },
      "outputs": [],
      "execution_count": null
    },
    {
      "cell_type": "code",
      "source": [
        "df_encoder_example2 = df_backfill.join(edt)\n",
        "df_encoder_example2.drop(['loan_grade'], axis=1, inplace=True)\n",
        "\n",
        "df_encoder_example2.head(10)"
      ],
      "metadata": {
        "trusted": true,
        "execution": {
          "iopub.status.busy": "2024-11-02T17:09:51.717382Z",
          "iopub.execute_input": "2024-11-02T17:09:51.717876Z",
          "iopub.status.idle": "2024-11-02T17:09:51.75846Z",
          "shell.execute_reply.started": "2024-11-02T17:09:51.71783Z",
          "shell.execute_reply": "2024-11-02T17:09:51.75686Z"
        },
        "id": "Il0AJoFH7RZG"
      },
      "outputs": [],
      "execution_count": null
    },
    {
      "cell_type": "markdown",
      "source": [
        "# **Scaler**"
      ],
      "metadata": {
        "id": "mNFNU2PW7RZH"
      }
    },
    {
      "cell_type": "code",
      "source": [
        "df_encoder_example.describe()"
      ],
      "metadata": {
        "trusted": true,
        "execution": {
          "iopub.status.busy": "2024-11-02T17:09:55.488959Z",
          "iopub.execute_input": "2024-11-02T17:09:55.489413Z",
          "iopub.status.idle": "2024-11-02T17:09:55.54998Z",
          "shell.execute_reply.started": "2024-11-02T17:09:55.489366Z",
          "shell.execute_reply": "2024-11-02T17:09:55.548845Z"
        },
        "id": "P_jZXWwR7RZH"
      },
      "outputs": [],
      "execution_count": null
    },
    {
      "cell_type": "markdown",
      "source": [
        "## **StandardScaler**"
      ],
      "metadata": {
        "id": "Nc2orlps7RZH"
      }
    },
    {
      "cell_type": "code",
      "source": [
        "standard_scaler = StandardScaler()\n",
        "\n",
        "data_scaled = standard_scaler.fit_transform(df_encoder_example)\n",
        "\n",
        "fig = plt.figure(figsize=(10, 4))\n",
        "\n",
        "sns.distplot(data_scaled);"
      ],
      "metadata": {
        "trusted": true,
        "execution": {
          "iopub.status.busy": "2024-11-02T17:10:02.977335Z",
          "iopub.execute_input": "2024-11-02T17:10:02.978346Z",
          "iopub.status.idle": "2024-11-02T17:10:04.889081Z",
          "shell.execute_reply.started": "2024-11-02T17:10:02.978298Z",
          "shell.execute_reply": "2024-11-02T17:10:04.887921Z"
        },
        "id": "XHdIfu1o7RZH"
      },
      "outputs": [],
      "execution_count": null
    },
    {
      "cell_type": "markdown",
      "source": [
        "## **MinMaxScaler**"
      ],
      "metadata": {
        "id": "9oiK5Mhn7RZH"
      }
    },
    {
      "cell_type": "code",
      "source": [
        "minmax_scaler = MinMaxScaler()\n",
        "\n",
        "data_scaled = minmax_scaler.fit_transform(df_encoder_example)\n",
        "\n",
        "fig = plt.figure(figsize=(10, 4))\n",
        "\n",
        "sns.distplot(data_scaled);"
      ],
      "metadata": {
        "trusted": true,
        "execution": {
          "iopub.status.busy": "2024-11-02T17:10:10.380927Z",
          "iopub.execute_input": "2024-11-02T17:10:10.381709Z",
          "iopub.status.idle": "2024-11-02T17:10:12.126846Z",
          "shell.execute_reply.started": "2024-11-02T17:10:10.381659Z",
          "shell.execute_reply": "2024-11-02T17:10:12.125751Z"
        },
        "id": "VZ79NqXF7RZH"
      },
      "outputs": [],
      "execution_count": null
    }
  ]
}