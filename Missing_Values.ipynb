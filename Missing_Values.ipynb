{
  "metadata": {
    "kernelspec": {
      "language": "python",
      "display_name": "Python 3",
      "name": "python3"
    },
    "language_info": {
      "name": "python",
      "version": "3.10.14",
      "mimetype": "text/x-python",
      "codemirror_mode": {
        "name": "ipython",
        "version": 3
      },
      "pygments_lexer": "ipython3",
      "nbconvert_exporter": "python",
      "file_extension": ".py"
    },
    "kaggle": {
      "accelerator": "none",
      "dataSources": [
        {
          "sourceId": 9788026,
          "sourceType": "datasetVersion",
          "datasetId": 5997342
        }
      ],
      "dockerImageVersionId": 30786,
      "isInternetEnabled": true,
      "language": "python",
      "sourceType": "notebook",
      "isGpuEnabled": false
    },
    "colab": {
      "name": "Missing_Values",
      "provenance": [],
      "include_colab_link": true
    }
  },
  "nbformat_minor": 0,
  "nbformat": 4,
  "cells": [
    {
      "cell_type": "markdown",
      "metadata": {
        "id": "view-in-github",
        "colab_type": "text"
      },
      "source": [
        "<a href=\"https://colab.research.google.com/github/omid-sakaki-ghazvini/Data-Mining/blob/master/Missing_Values.ipynb\" target=\"_parent\"><img src=\"https://colab.research.google.com/assets/colab-badge.svg\" alt=\"Open In Colab\"/></a>"
      ]
    },
    {
      "source": [
        "# IMPORTANT: RUN THIS CELL IN ORDER TO IMPORT YOUR KAGGLE DATA SOURCES,\n",
        "# THEN FEEL FREE TO DELETE THIS CELL.\n",
        "# NOTE: THIS NOTEBOOK ENVIRONMENT DIFFERS FROM KAGGLE'S PYTHON\n",
        "# ENVIRONMENT SO THERE MAY BE MISSING LIBRARIES USED BY YOUR\n",
        "# NOTEBOOK.\n",
        "import kagglehub\n",
        "omidsakaki1370_data_preparation_example_path = kagglehub.dataset_download('omidsakaki1370/data-preparation-example')\n",
        "\n",
        "print('Data source import complete.')\n"
      ],
      "metadata": {
        "id": "tgoGpccZiVSj"
      },
      "cell_type": "code",
      "outputs": [],
      "execution_count": null
    },
    {
      "cell_type": "code",
      "source": [
        "# This Python 3 environment comes with many helpful analytics libraries installed\n",
        "# It is defined by the kaggle/python Docker image: https://github.com/kaggle/docker-python\n",
        "# For example, here's several helpful packages to load\n",
        "\n",
        "import numpy as np # linear algebra\n",
        "import pandas as pd # data processing, CSV file I/O (e.g. pd.read_csv)\n",
        "\n",
        "# Input data files are available in the read-only \"../input/\" directory\n",
        "# For example, running this (by clicking run or pressing Shift+Enter) will list all files under the input directory\n",
        "\n",
        "import os\n",
        "for dirname, _, filenames in os.walk('/kaggle/input'):\n",
        "    for filename in filenames:\n",
        "        print(os.path.join(dirname, filename))\n",
        "\n",
        "# You can write up to 20GB to the current directory (/kaggle/working/) that gets preserved as output when you create a version using \"Save & Run All\"\n",
        "# You can also write temporary files to /kaggle/temp/, but they won't be saved outside of the current session"
      ],
      "metadata": {
        "_uuid": "8f2839f25d086af736a60e9eeb907d3b93b6e0e5",
        "_cell_guid": "b1076dfc-b9ad-4769-8c92-a6c4dae69d19",
        "trusted": true,
        "execution": {
          "iopub.status.busy": "2024-11-02T15:04:44.755887Z",
          "iopub.execute_input": "2024-11-02T15:04:44.756384Z",
          "iopub.status.idle": "2024-11-02T15:04:45.39501Z",
          "shell.execute_reply.started": "2024-11-02T15:04:44.756334Z",
          "shell.execute_reply": "2024-11-02T15:04:45.39357Z"
        },
        "id": "8HF1uKnOiVSk"
      },
      "outputs": [],
      "execution_count": null
    },
    {
      "cell_type": "code",
      "source": [
        "import pandas as pd\n",
        "import numpy as np\n",
        "from scipy import stats\n",
        "from sklearn.preprocessing import MinMaxScaler, StandardScaler, LabelEncoder\n",
        "import seaborn as sns\n",
        "import matplotlib.pyplot as plt\n",
        "\n",
        "import warnings\n",
        "warnings.filterwarnings('ignore')"
      ],
      "metadata": {
        "trusted": true,
        "execution": {
          "iopub.status.busy": "2024-11-02T15:04:45.397599Z",
          "iopub.execute_input": "2024-11-02T15:04:45.398402Z",
          "iopub.status.idle": "2024-11-02T15:04:46.403732Z",
          "shell.execute_reply.started": "2024-11-02T15:04:45.39834Z",
          "shell.execute_reply": "2024-11-02T15:04:46.402093Z"
        },
        "id": "9FB4wfexiVSl"
      },
      "outputs": [],
      "execution_count": null
    },
    {
      "cell_type": "code",
      "source": [
        "df_example = pd.read_csv('/kaggle/input/data-preparation-example/credit_risk_dataset.csv')"
      ],
      "metadata": {
        "trusted": true,
        "execution": {
          "iopub.status.busy": "2024-11-02T15:04:46.406853Z",
          "iopub.execute_input": "2024-11-02T15:04:46.407611Z",
          "iopub.status.idle": "2024-11-02T15:04:46.495155Z",
          "shell.execute_reply.started": "2024-11-02T15:04:46.407548Z",
          "shell.execute_reply": "2024-11-02T15:04:46.49375Z"
        },
        "id": "_t5EoEC7iVSl"
      },
      "outputs": [],
      "execution_count": null
    },
    {
      "cell_type": "code",
      "source": [
        "df_example.head(10)"
      ],
      "metadata": {
        "trusted": true,
        "execution": {
          "iopub.status.busy": "2024-11-02T15:04:46.498771Z",
          "iopub.execute_input": "2024-11-02T15:04:46.499369Z",
          "iopub.status.idle": "2024-11-02T15:04:46.532291Z",
          "shell.execute_reply.started": "2024-11-02T15:04:46.499309Z",
          "shell.execute_reply": "2024-11-02T15:04:46.530684Z"
        },
        "id": "SjjxDyRiiVSl"
      },
      "outputs": [],
      "execution_count": null
    },
    {
      "cell_type": "code",
      "source": [
        "df_example.info()"
      ],
      "metadata": {
        "trusted": true,
        "execution": {
          "iopub.status.busy": "2024-11-02T15:04:46.53395Z",
          "iopub.execute_input": "2024-11-02T15:04:46.534426Z",
          "iopub.status.idle": "2024-11-02T15:04:46.57193Z",
          "shell.execute_reply.started": "2024-11-02T15:04:46.534379Z",
          "shell.execute_reply": "2024-11-02T15:04:46.570287Z"
        },
        "id": "gjhLSSxdiVSm"
      },
      "outputs": [],
      "execution_count": null
    },
    {
      "cell_type": "code",
      "source": [
        "missing_values_count = df_example.isnull().sum()\n",
        "\n",
        "missing_values_count"
      ],
      "metadata": {
        "trusted": true,
        "execution": {
          "iopub.status.busy": "2024-11-02T15:04:46.573916Z",
          "iopub.execute_input": "2024-11-02T15:04:46.574474Z",
          "iopub.status.idle": "2024-11-02T15:04:46.613994Z",
          "shell.execute_reply.started": "2024-11-02T15:04:46.574414Z",
          "shell.execute_reply": "2024-11-02T15:04:46.611189Z"
        },
        "id": "opsN7hJriVSm"
      },
      "outputs": [],
      "execution_count": null
    },
    {
      "cell_type": "code",
      "source": [
        "df_example['loan_int_rate'].isna()"
      ],
      "metadata": {
        "trusted": true,
        "execution": {
          "iopub.status.busy": "2024-11-02T15:04:46.617302Z",
          "iopub.execute_input": "2024-11-02T15:04:46.618186Z",
          "iopub.status.idle": "2024-11-02T15:04:46.630596Z",
          "shell.execute_reply.started": "2024-11-02T15:04:46.618111Z",
          "shell.execute_reply": "2024-11-02T15:04:46.629111Z"
        },
        "id": "5KIc7GEqiVSn"
      },
      "outputs": [],
      "execution_count": null
    },
    {
      "cell_type": "code",
      "source": [
        "# how many total missing values do we have?\n",
        "total_cells = np.product(df_example.shape)\n",
        "total_missing = missing_values_count.sum()"
      ],
      "metadata": {
        "trusted": true,
        "execution": {
          "iopub.status.busy": "2024-11-02T15:04:46.632982Z",
          "iopub.execute_input": "2024-11-02T15:04:46.633419Z",
          "iopub.status.idle": "2024-11-02T15:04:46.641424Z",
          "shell.execute_reply.started": "2024-11-02T15:04:46.633375Z",
          "shell.execute_reply": "2024-11-02T15:04:46.639168Z"
        },
        "id": "wmanL-W7iVSn"
      },
      "outputs": [],
      "execution_count": null
    },
    {
      "cell_type": "code",
      "source": [
        "percent_missing = (total_missing/total_cells) * 100\n",
        "print(percent_missing)"
      ],
      "metadata": {
        "trusted": true,
        "execution": {
          "iopub.status.busy": "2024-11-02T15:04:46.64313Z",
          "iopub.execute_input": "2024-11-02T15:04:46.643951Z",
          "iopub.status.idle": "2024-11-02T15:04:46.659893Z",
          "shell.execute_reply.started": "2024-11-02T15:04:46.643902Z",
          "shell.execute_reply": "2024-11-02T15:04:46.658307Z"
        },
        "id": "LF7-__BbiVSo"
      },
      "outputs": [],
      "execution_count": null
    },
    {
      "cell_type": "markdown",
      "source": [
        "## **Drop missing values**"
      ],
      "metadata": {
        "id": "JcIpGFWsiVSo"
      }
    },
    {
      "cell_type": "code",
      "source": [
        "df_example.dropna()"
      ],
      "metadata": {
        "trusted": true,
        "execution": {
          "iopub.status.busy": "2024-11-02T15:04:46.66875Z",
          "iopub.execute_input": "2024-11-02T15:04:46.669337Z",
          "iopub.status.idle": "2024-11-02T15:04:46.723305Z",
          "shell.execute_reply.started": "2024-11-02T15:04:46.66928Z",
          "shell.execute_reply": "2024-11-02T15:04:46.720959Z"
        },
        "id": "fhzoZI3jiVSp"
      },
      "outputs": [],
      "execution_count": null
    },
    {
      "cell_type": "code",
      "source": [
        "# remove all columns with at least one missing value\n",
        "columns_with_na_dropped = df_example.dropna(axis=1)\n",
        "columns_with_na_dropped.head()"
      ],
      "metadata": {
        "trusted": true,
        "execution": {
          "iopub.status.busy": "2024-11-02T15:04:46.725361Z",
          "iopub.execute_input": "2024-11-02T15:04:46.72597Z",
          "iopub.status.idle": "2024-11-02T15:04:46.773229Z",
          "shell.execute_reply.started": "2024-11-02T15:04:46.725907Z",
          "shell.execute_reply": "2024-11-02T15:04:46.771393Z"
        },
        "id": "k8bSqs1BiVSp"
      },
      "outputs": [],
      "execution_count": null
    },
    {
      "cell_type": "code",
      "source": [
        "# just how much data did we lose?\n",
        "print(\"Columns in original dataset: %d \\n\" % df_example.shape[1])\n",
        "print(\"Columns with na's dropped: %d\" % columns_with_na_dropped.shape[1])"
      ],
      "metadata": {
        "trusted": true,
        "execution": {
          "iopub.status.busy": "2024-11-02T15:04:46.775795Z",
          "iopub.execute_input": "2024-11-02T15:04:46.776405Z",
          "iopub.status.idle": "2024-11-02T15:04:46.787084Z",
          "shell.execute_reply.started": "2024-11-02T15:04:46.77634Z",
          "shell.execute_reply": "2024-11-02T15:04:46.785157Z"
        },
        "id": "MGpNHc-piVSp"
      },
      "outputs": [],
      "execution_count": null
    },
    {
      "cell_type": "markdown",
      "source": [
        "## **Filling in missing values automatically**"
      ],
      "metadata": {
        "id": "nwPlJKa5iVSp"
      }
    },
    {
      "cell_type": "markdown",
      "source": [
        "### **fillna(0)**"
      ],
      "metadata": {
        "id": "RufkoXHiiVSq"
      }
    },
    {
      "cell_type": "code",
      "source": [
        "df_0 = df_example['loan_int_rate'].fillna(0)\n",
        "missing_values_count = df_0.isnull().sum()\n",
        "\n",
        "print(missing_values_count)\n",
        "df_0.head(10)"
      ],
      "metadata": {
        "trusted": true,
        "execution": {
          "iopub.status.busy": "2024-11-02T15:04:46.790317Z",
          "iopub.execute_input": "2024-11-02T15:04:46.7914Z",
          "iopub.status.idle": "2024-11-02T15:04:46.808503Z",
          "shell.execute_reply.started": "2024-11-02T15:04:46.791316Z",
          "shell.execute_reply": "2024-11-02T15:04:46.806888Z"
        },
        "id": "WrVoFE8EiVSq"
      },
      "outputs": [],
      "execution_count": null
    },
    {
      "cell_type": "code",
      "source": [
        "ax1 = plt.subplot(121)\n",
        "df_example['loan_int_rate'].hist(bins=20, figsize=(15,5));\n",
        "ax1.set_title(\"loan_int_rate\");\n",
        "\n",
        "ax2 = plt.subplot(122)\n",
        "df_0.hist(bins=20);\n",
        "ax2.set_title(\"loan_int_rate_fillna(0)\");"
      ],
      "metadata": {
        "trusted": true,
        "execution": {
          "iopub.status.busy": "2024-11-02T15:04:46.810505Z",
          "iopub.execute_input": "2024-11-02T15:04:46.811055Z",
          "iopub.status.idle": "2024-11-02T15:04:47.776329Z",
          "shell.execute_reply.started": "2024-11-02T15:04:46.810987Z",
          "shell.execute_reply": "2024-11-02T15:04:47.774535Z"
        },
        "id": "bcY5DxyDiVSq"
      },
      "outputs": [],
      "execution_count": null
    },
    {
      "cell_type": "markdown",
      "source": [
        "### **fillna(mean())**"
      ],
      "metadata": {
        "id": "D7VO-Cj0iVSq"
      }
    },
    {
      "cell_type": "code",
      "source": [
        "df_mean = df_example['loan_int_rate'].fillna(df_example['loan_int_rate'].mean())\n",
        "missing_values_count = df_mean.isnull().sum()\n",
        "\n",
        "print(missing_values_count)\n",
        "df_mean.head(10)"
      ],
      "metadata": {
        "trusted": true,
        "execution": {
          "iopub.status.busy": "2024-11-02T15:04:47.777919Z",
          "iopub.execute_input": "2024-11-02T15:04:47.778355Z",
          "iopub.status.idle": "2024-11-02T15:04:47.797179Z",
          "shell.execute_reply.started": "2024-11-02T15:04:47.778307Z",
          "shell.execute_reply": "2024-11-02T15:04:47.795558Z"
        },
        "id": "HYAkGb9viVSq"
      },
      "outputs": [],
      "execution_count": null
    },
    {
      "cell_type": "code",
      "source": [
        "ax1 = plt.subplot(121)\n",
        "df_example['loan_int_rate'].hist(bins=20, figsize=(15,5));\n",
        "ax1.set_title(\"loan_int_rate\");\n",
        "\n",
        "ax2 = plt.subplot(122)\n",
        "df_mean.hist(bins=20);\n",
        "ax2.set_title(\"loan_int_rate_fillna(mean())\");"
      ],
      "metadata": {
        "trusted": true,
        "execution": {
          "iopub.status.busy": "2024-11-02T15:04:47.799143Z",
          "iopub.execute_input": "2024-11-02T15:04:47.800287Z",
          "iopub.status.idle": "2024-11-02T15:04:48.658642Z",
          "shell.execute_reply.started": "2024-11-02T15:04:47.800217Z",
          "shell.execute_reply": "2024-11-02T15:04:48.657104Z"
        },
        "id": "a6H1ev4uiVSr"
      },
      "outputs": [],
      "execution_count": null
    },
    {
      "cell_type": "markdown",
      "source": [
        "### **fillna(method = 'ffill')**"
      ],
      "metadata": {
        "id": "2CzLiAo_iVSr"
      }
    },
    {
      "cell_type": "code",
      "source": [
        "df_ffill = df_example['loan_int_rate'].fillna(method = 'ffill')\n",
        "missing_values_count = df_ffill.isnull().sum()\n",
        "\n",
        "print(missing_values_count)\n",
        "df_ffill.head(10)"
      ],
      "metadata": {
        "trusted": true,
        "execution": {
          "iopub.status.busy": "2024-11-02T15:04:48.660308Z",
          "iopub.execute_input": "2024-11-02T15:04:48.661119Z",
          "iopub.status.idle": "2024-11-02T15:04:48.684472Z",
          "shell.execute_reply.started": "2024-11-02T15:04:48.661043Z",
          "shell.execute_reply": "2024-11-02T15:04:48.681496Z"
        },
        "id": "C53z004tiVSr"
      },
      "outputs": [],
      "execution_count": null
    },
    {
      "cell_type": "code",
      "source": [
        "ax1 = plt.subplot(121)\n",
        "df_example['loan_int_rate'].hist(bins=20, figsize=(15,5));\n",
        "ax1.set_title(\"loan_int_rate\");\n",
        "\n",
        "ax2 = plt.subplot(122)\n",
        "df_ffill.hist(bins=20);\n",
        "ax2.set_title(\"loan_int_rate_fillna(method = 'ffill')\");"
      ],
      "metadata": {
        "trusted": true,
        "execution": {
          "iopub.status.busy": "2024-11-02T15:04:48.687406Z",
          "iopub.execute_input": "2024-11-02T15:04:48.688012Z",
          "iopub.status.idle": "2024-11-02T15:04:49.587589Z",
          "shell.execute_reply.started": "2024-11-02T15:04:48.687947Z",
          "shell.execute_reply": "2024-11-02T15:04:49.584929Z"
        },
        "id": "hEFJNgIMiVSr"
      },
      "outputs": [],
      "execution_count": null
    },
    {
      "cell_type": "markdown",
      "source": [
        "### **fillna(method = 'pad')**"
      ],
      "metadata": {
        "id": "fJENjAPeiVSr"
      }
    },
    {
      "cell_type": "code",
      "source": [
        "df_pad = df_example['loan_int_rate'].fillna(method = 'pad')\n",
        "missing_values_count = df_pad.isnull().sum()\n",
        "\n",
        "print(missing_values_count)\n",
        "df_pad.head(10)"
      ],
      "metadata": {
        "trusted": true,
        "execution": {
          "iopub.status.busy": "2024-11-02T15:04:49.5913Z",
          "iopub.execute_input": "2024-11-02T15:04:49.591897Z",
          "iopub.status.idle": "2024-11-02T15:04:49.609888Z",
          "shell.execute_reply.started": "2024-11-02T15:04:49.591834Z",
          "shell.execute_reply": "2024-11-02T15:04:49.607809Z"
        },
        "id": "log-yG_9iVSr"
      },
      "outputs": [],
      "execution_count": null
    },
    {
      "cell_type": "code",
      "source": [
        "ax1 = plt.subplot(121)\n",
        "df_example['loan_int_rate'].hist(bins=20, figsize=(15,5));\n",
        "ax1.set_title(\"loan_int_rate\");\n",
        "\n",
        "ax2 = plt.subplot(122)\n",
        "df_pad.hist(bins=20);\n",
        "ax2.set_title(\"loan_int_rate_fillna(method = 'pad')\");"
      ],
      "metadata": {
        "trusted": true,
        "execution": {
          "iopub.status.busy": "2024-11-02T15:04:49.61201Z",
          "iopub.execute_input": "2024-11-02T15:04:49.612599Z",
          "iopub.status.idle": "2024-11-02T15:04:50.605365Z",
          "shell.execute_reply.started": "2024-11-02T15:04:49.612533Z",
          "shell.execute_reply": "2024-11-02T15:04:50.602864Z"
        },
        "id": "dUJLwDjHiVSs"
      },
      "outputs": [],
      "execution_count": null
    },
    {
      "cell_type": "markdown",
      "source": [
        "### **fillna(method = 'backfill')**"
      ],
      "metadata": {
        "id": "jPugA0_diVSs"
      }
    },
    {
      "cell_type": "code",
      "source": [
        "df_backfill = df_example['loan_int_rate'].fillna(method = 'backfill')\n",
        "missing_values_count = df_backfill.isnull().sum()\n",
        "\n",
        "print(missing_values_count)\n",
        "df_backfill.head(10)"
      ],
      "metadata": {
        "trusted": true,
        "execution": {
          "iopub.status.busy": "2024-11-02T15:04:50.608922Z",
          "iopub.execute_input": "2024-11-02T15:04:50.609787Z",
          "iopub.status.idle": "2024-11-02T15:04:50.630122Z",
          "shell.execute_reply.started": "2024-11-02T15:04:50.609706Z",
          "shell.execute_reply": "2024-11-02T15:04:50.62817Z"
        },
        "id": "wUMLZOqyiVSs"
      },
      "outputs": [],
      "execution_count": null
    },
    {
      "cell_type": "code",
      "source": [
        "ax1 = plt.subplot(121)\n",
        "df_example['loan_int_rate'].hist(bins=20, figsize=(15,5));\n",
        "ax1.set_title(\"loan_int_rate\");\n",
        "\n",
        "ax2 = plt.subplot(122)\n",
        "df_backfill.hist(bins=20);\n",
        "ax2.set_title(\"loan_int_rate_fillna(method = 'backfill')\");"
      ],
      "metadata": {
        "trusted": true,
        "execution": {
          "iopub.status.busy": "2024-11-02T15:04:50.632815Z",
          "iopub.execute_input": "2024-11-02T15:04:50.633418Z",
          "iopub.status.idle": "2024-11-02T15:04:51.537168Z",
          "shell.execute_reply.started": "2024-11-02T15:04:50.63336Z",
          "shell.execute_reply": "2024-11-02T15:04:51.535569Z"
        },
        "id": "WKotM6FuiVSs"
      },
      "outputs": [],
      "execution_count": null
    },
    {
      "cell_type": "markdown",
      "source": [
        "## **Imputation of missing values**"
      ],
      "metadata": {
        "id": "xswI3HWwiVSs"
      }
    },
    {
      "cell_type": "markdown",
      "source": [
        "### **Simple Imputer**"
      ],
      "metadata": {
        "id": "XPzrR197iVSs"
      }
    },
    {
      "cell_type": "code",
      "source": [
        "from sklearn.impute import SimpleImputer\n",
        "import scipy.sparse as sp\n",
        "\n",
        "df_test = df_example['loan_int_rate'].values.reshape(1, 32581)\n",
        "df_test = sp.csc_matrix(df_test)\n",
        "\n",
        "imputer = SimpleImputer(missing_values = np.nan , strategy = 'mean')\n",
        "imputer = imputer.fit(df_test)\n",
        "imputer = imputer.transform(df_test).toarray()"
      ],
      "metadata": {
        "trusted": true,
        "execution": {
          "iopub.status.busy": "2024-11-02T15:15:29.355015Z",
          "iopub.execute_input": "2024-11-02T15:15:29.35548Z",
          "iopub.status.idle": "2024-11-02T15:15:30.115418Z",
          "shell.execute_reply.started": "2024-11-02T15:15:29.355437Z",
          "shell.execute_reply": "2024-11-02T15:15:30.114121Z"
        },
        "id": "o5luIZtWiVSt"
      },
      "outputs": [],
      "execution_count": null
    },
    {
      "cell_type": "code",
      "source": [
        "imputer = pd.Series(imputer.reshape(imputer.shape[1]), name=\"loan_int_rate\")\n",
        "print(imputer)"
      ],
      "metadata": {
        "trusted": true,
        "execution": {
          "iopub.status.busy": "2024-11-02T15:15:32.503242Z",
          "iopub.execute_input": "2024-11-02T15:15:32.503816Z",
          "iopub.status.idle": "2024-11-02T15:15:32.513868Z",
          "shell.execute_reply.started": "2024-11-02T15:15:32.503757Z",
          "shell.execute_reply": "2024-11-02T15:15:32.512605Z"
        },
        "id": "J3oRqLFhiVSt"
      },
      "outputs": [],
      "execution_count": null
    },
    {
      "cell_type": "code",
      "source": [
        "ax1 = plt.subplot(121)\n",
        "df_example['loan_int_rate'].hist(bins=20, figsize=(15,5));\n",
        "ax1.set_title(\"loan_int_rate\");\n",
        "\n",
        "ax2 = plt.subplot(122)\n",
        "imputer.hist(bins=20);\n",
        "ax2.set_title(\"Simple Imputer\");"
      ],
      "metadata": {
        "trusted": true,
        "execution": {
          "iopub.status.busy": "2024-11-02T15:15:35.485835Z",
          "iopub.execute_input": "2024-11-02T15:15:35.486298Z",
          "iopub.status.idle": "2024-11-02T15:15:36.206633Z",
          "shell.execute_reply.started": "2024-11-02T15:15:35.486253Z",
          "shell.execute_reply": "2024-11-02T15:15:36.205355Z"
        },
        "id": "AfqzwpvIiVSt"
      },
      "outputs": [],
      "execution_count": null
    },
    {
      "cell_type": "markdown",
      "source": [
        "## **Nearest neighbors imputation**"
      ],
      "metadata": {
        "id": "qw1zt4yjiVSu"
      }
    },
    {
      "cell_type": "code",
      "source": [
        "from sklearn.impute import KNNImputer\n",
        "\n",
        "df_test = df_example['loan_int_rate'].values.reshape(1, 32581)\n",
        "\n",
        "imputer = KNNImputer(n_neighbors=2, weights=\"uniform\")\n",
        "imputer = imputer.fit_transform(df_test)\n",
        "\n",
        "print(imputer.shape)"
      ],
      "metadata": {
        "trusted": true,
        "execution": {
          "iopub.status.busy": "2024-11-02T15:18:00.402421Z",
          "iopub.execute_input": "2024-11-02T15:18:00.40343Z",
          "iopub.status.idle": "2024-11-02T15:18:00.77633Z",
          "shell.execute_reply.started": "2024-11-02T15:18:00.403376Z",
          "shell.execute_reply": "2024-11-02T15:18:00.775101Z"
        },
        "id": "XB64BPzHiVSu"
      },
      "outputs": [],
      "execution_count": null
    },
    {
      "cell_type": "code",
      "source": [
        "imputer = pd.Series(imputer.reshape(imputer.shape[1]), name=\"loan_int_rate\")\n",
        "print(imputer)"
      ],
      "metadata": {
        "trusted": true,
        "execution": {
          "iopub.status.busy": "2024-11-02T15:18:13.079659Z",
          "iopub.execute_input": "2024-11-02T15:18:13.080119Z",
          "iopub.status.idle": "2024-11-02T15:18:13.088549Z",
          "shell.execute_reply.started": "2024-11-02T15:18:13.080076Z",
          "shell.execute_reply": "2024-11-02T15:18:13.087315Z"
        },
        "id": "y97MLH9RiVSu"
      },
      "outputs": [],
      "execution_count": null
    },
    {
      "cell_type": "code",
      "source": [
        "ax1 = plt.subplot(121)\n",
        "df_example['loan_int_rate'].hist(bins=20, figsize=(15,5));\n",
        "ax1.set_title(\"loan_int_rate\");\n",
        "\n",
        "ax2 = plt.subplot(122)\n",
        "imputer.hist(bins=20);\n",
        "ax2.set_title(\"Nearest neighbors imputation\");"
      ],
      "metadata": {
        "trusted": true,
        "execution": {
          "iopub.status.busy": "2024-11-02T15:18:38.822665Z",
          "iopub.execute_input": "2024-11-02T15:18:38.823188Z",
          "iopub.status.idle": "2024-11-02T15:18:39.560378Z",
          "shell.execute_reply.started": "2024-11-02T15:18:38.823139Z",
          "shell.execute_reply": "2024-11-02T15:18:39.558938Z"
        },
        "id": "I5_Tp1QYiVSu"
      },
      "outputs": [],
      "execution_count": null
    }
  ]
}